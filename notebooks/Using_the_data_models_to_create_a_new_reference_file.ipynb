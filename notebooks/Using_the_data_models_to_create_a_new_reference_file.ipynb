{
 "cells": [
  {
   "cell_type": "markdown",
   "metadata": {},
   "source": [
    "# How To Create A New Reference File Using A MIRI Data Model"
   ]
  },
  {
   "cell_type": "markdown",
   "metadata": {},
   "source": [
    "This first example will show how to create a very simple reference file (GAIN) using the MIRI data models. The MIRI calibration data products are described on this wiki page:\n",
    "\n",
    "http://miri.ster.kuleuven.be/bin/view/Internal/CalDataProducts\n",
    "\n",
    "To create a new file from scratch, it is necessary to know which data model corresponds to which reference file. A mapping between reference file and data model can be found on this wiki page:\n",
    "\n",
    "http://miri.ster.kuleuven.be/bin/view/Internal/Software/MiriNewDataProductsUse\n",
    "\n",
    "\n",
    "All the reference data models may be found in Python package miri.datamodels.cdp. In the following Python code the GAIN data model is imported."
   ]
  },
  {
   "cell_type": "code",
   "execution_count": 1,
   "metadata": {},
   "outputs": [],
   "source": [
    "import numpy as np\n",
    "from miri.datamodels.cdp import MiriGainModel"
   ]
  },
  {
   "cell_type": "markdown",
   "metadata": {},
   "source": [
    "It is assumed you have some Python code which derives the MIRI GAIN calibration and stores it in a numpy array.\n",
    "In this example, a 3x3 array is created with dummy data and the array is used to create a new GAIN data model. "
   ]
  },
  {
   "cell_type": "code",
   "execution_count": 2,
   "metadata": {},
   "outputs": [],
   "source": [
    "data3x3 = np.array([[1.0,1.2,1.1],[1.3,1.2,1.0],[1.1,0.8,0.9]])\n",
    "gain_model = MiriGainModel( data=data3x3 )"
   ]
  },
  {
   "cell_type": "markdown",
   "metadata": {},
   "source": [
    "After the data model has been created, you can query the contents of the data model metadata by displaying the contents of the \"info\" attribute:"
   ]
  },
  {
   "cell_type": "code",
   "execution_count": 3,
   "metadata": {},
   "outputs": [
    {
     "name": "stdout",
     "output_type": "stream",
     "text": [
      "MiriGainModel: \n",
      "===============\n",
      "Metadata\n",
      "--------\n",
      "Data model location                    FITS key   Value                  Comment\n",
      "~~~~~~~~~~~~~~~~~~~                    ~~~~~~~~   ~~~~~                  ~~~~~~~\n",
      "meta.date                            | DATE     = 2018-11-09T13:23:11.221 / Date this file was created (UTC)\n",
      "meta.exposure.nframes                | NFRAMES  = 1                    / Number of frames coadded in a group\n",
      "meta.instrument.name                 | INSTRUME = MIRI                 / Instrument used to acquire the data\n",
      "meta.model_type                      | DATAMODL = GAIN                 / Type of data model\n",
      "meta.pedigree                        | PEDIGREE = GROUND               / The pedigree of the reference file\n",
      "meta.reftype                         | REFTYPE  = GAIN                 / Reference file type\n",
      "meta.subarray.fastaxis               | FASTAXIS = 1                    / Fast readout axis direction\n",
      "meta.subarray.slowaxis               | SLOWAXIS = 2                    / Slow readout axis direction\n",
      "meta.telescope                       | TELESCOP = JWST                 / Telescope used to acquire the data\n",
      "meta.useafter                        | USEAFTER = 2000-01-01T00:00:00  / Use after date of the reference file\n",
      "HISTORY = 'Created from: MiriGainModel'\n",
      "\n"
     ]
    }
   ],
   "source": [
    "print( gain_model.info )"
   ]
  },
  {
   "cell_type": "markdown",
   "metadata": {},
   "source": [
    "Note that the newly-created data model contains only the minimum metadata needed to identify it as a\n",
    "MIRI GAIN reference data. The data model contains convenience functions you can use to define the rest of the metadata. For example, supposing this GAIN model is valid for the MIRIIFULONG detector of the MRS, valid for any detector readout pattern, channels 3 and 4 and any band and a subset can be extracted for any subarray. The following statements will add the missing instrument metadata."
   ]
  },
  {
   "cell_type": "code",
   "execution_count": 4,
   "metadata": {},
   "outputs": [],
   "source": [
    "gain_model.set_instrument_metadata( detector='MIRIFULONG', channel='34', band='N/A')\n",
    "gain_model.set_subarray_metadata( subarray='GENERIC')"
   ]
  },
  {
   "cell_type": "markdown",
   "metadata": {},
   "source": [
    "There are two alternative ways of defining the exposure. The most vertsatile way is to use the exposure metadata setting convenience function, shown below. The function will create default keywords for parameters, such as NFRAMES and ROWRESETS, which are always the same for MIRI data."
   ]
  },
  {
   "cell_type": "code",
   "execution_count": 5,
   "metadata": {},
   "outputs": [],
   "source": [
    "gain_model.set_exposure_metadata( readpatt='N/A', nints=None, ngroups=None )"
   ]
  },
  {
   "cell_type": "markdown",
   "metadata": {},
   "source": [
    "However, if the only relevant parameter is the detector readout pattern (READPATT), and you don't want any extra keywords created, the READPATT keyword can be defined on its own by directly defining the parameter in the data model hierarchy, like this."
   ]
  },
  {
   "cell_type": "code",
   "execution_count": 14,
   "metadata": {},
   "outputs": [],
   "source": [
    "gain_model.meta.exposure.readpatt = 'N/A'"
   ]
  },
  {
   "cell_type": "markdown",
   "metadata": {},
   "source": [
    "The data model will check that anything written is valid. Try executing the following line to see what happens when you try to set an invalid detector readout mode. This is an example of the data model keeping the data valid."
   ]
  },
  {
   "cell_type": "code",
   "execution_count": 6,
   "metadata": {},
   "outputs": [
    {
     "name": "stderr",
     "output_type": "stream",
     "text": [
      "/sw4/smb/anaconda3/envs/miricle.devel/lib/python3.5/site-packages/jwst-0.9.6-py3.5-linux-x86_64.egg/jwst/datamodels/validate.py:32: ValidationWarning: While validating readpatt the following error occurred:\n",
      "'NoSuchPattern' is not one of ['FAST', 'FASTGRPAVG', 'FASTINTAVG', 'SLOW', 'ANY', 'N/A']\n",
      "\n",
      "Failed validating 'enum' in schema:\n",
      "    {'$schema': 'http://stsci.edu/schemas/asdf-schema/0.1.0/asdf-schema',\n",
      "     'enum': ['FAST', 'FASTGRPAVG', 'FASTINTAVG', 'SLOW', 'ANY', 'N/A'],\n",
      "     'fits_keyword': 'READPATT',\n",
      "     'title': 'Readout pattern',\n",
      "     'type': 'string'}\n",
      "\n",
      "On instance:\n",
      "    'NoSuchPattern'\n",
      "  warnings.warn(errmsg, ValidationWarning)\n"
     ]
    }
   ],
   "source": [
    "gain_model.meta.exposure.readpatt = 'NoSuchPattern'"
   ]
  },
  {
   "cell_type": "markdown",
   "metadata": {},
   "source": [
    "MIRI Calibration Data Products must also contain housekeeping information, which can be added with the following statements:"
   ]
  },
  {
   "cell_type": "code",
   "execution_count": 7,
   "metadata": {},
   "outputs": [],
   "source": [
    "gain_model.set_housekeeping_metadata( origin='MIRI European Consortium', author='Joe Bloggs',\n",
    "                                  version='07.00.00', useafter='2018-11-01',\n",
    "                                  description='MIRI GAIN data created from a data models example')\n",
    "gain_model.add_referencefile_history( document='MIRI-TR-0000-UA-Gain', software='IDL script gain.pro',\n",
    "                                   dataused='MIRI FM data', differences='Metadata update only',\n",
    "                                   history='This is an extra history record' )"
   ]
  },
  {
   "cell_type": "markdown",
   "metadata": {},
   "source": [
    "If you know the location of additional metadata within the data model hierarchy, you can set it directly with a\n",
    "statement like this"
   ]
  },
  {
   "cell_type": "code",
   "execution_count": 8,
   "metadata": {},
   "outputs": [],
   "source": [
    "gain_model.meta.filename_original = 'MIRI_FM_MIRIFULONG_34_GAIN_04.00.00.fits'"
   ]
  },
  {
   "cell_type": "markdown",
   "metadata": {},
   "source": [
    "Repeating the metadata query will now reveal the extra metadata."
   ]
  },
  {
   "cell_type": "code",
   "execution_count": 9,
   "metadata": {},
   "outputs": [
    {
     "name": "stdout",
     "output_type": "stream",
     "text": [
      "MiriGainModel: \n",
      "===============\n",
      "Metadata\n",
      "--------\n",
      "Data model location                    FITS key   Value                  Comment\n",
      "~~~~~~~~~~~~~~~~~~~                    ~~~~~~~~   ~~~~~                  ~~~~~~~\n",
      "meta.author                          | AUTHOR   = Joe Bloggs           / Author of the reference file\n",
      "meta.date                            | DATE     = 2018-11-09T13:23:11.221 / Date this file was created (UTC)\n",
      "meta.description                     | DESCRIP  = MIRI GAIN data created from a data models example / Description of the reference file\n",
      "meta.exposure.frame_resets           | FRMRSETS = 3                    / Number of extra frame resets for SCA\n",
      "meta.exposure.groups_averaged        | GRPAVG   = 1                    / Number of groups averaged\n",
      "meta.exposure.integrations_averaged  | INTAVG   = 1                    / Number of integrations averaged\n",
      "meta.exposure.nframes                | NFRAMES  = 1                    / Number of frames coadded in a group\n",
      "meta.exposure.readpatt               | READPATT = N/A                  / Readout pattern\n",
      "meta.exposure.reset_time             | ROWRSETS = 0                    / Width of reset pulse for SCA (cycles)\n",
      "meta.filename_original               | ORIGFILE = MIRI_FM_MIRIFULONG_34_GAIN_04.00.00.fits / Original name of the file\n",
      "meta.instrument.band                 | BAND     = N/A                  / MIRI sub-channel relevant (MRS)\n",
      "meta.instrument.channel              | CHANNEL  = 34                   / MIRI channel relevant (MRS)\n",
      "meta.instrument.detector             | DETECTOR = MIRIFULONG           / Name of detector used to acquire the data\n",
      "meta.instrument.detector_settings    | DETSETNG = N/A                  / Detector settings used\n",
      "meta.instrument.model                | MODELNAM = FM                   / Instrument model name\n",
      "meta.instrument.name                 | INSTRUME = MIRI                 / Instrument used to acquire the data\n",
      "meta.model_type                      | DATAMODL = GAIN                 / Type of data model\n",
      "meta.origin                          | ORIGIN   = MIRI European Consortium / Organization responsible for creating file\n",
      "meta.pedigree                        | PEDIGREE = GROUND               / The pedigree of the reference file\n",
      "meta.reftype                         | REFTYPE  = GAIN                 / Reference file type\n",
      "meta.subarray.fastaxis               | FASTAXIS = 1                    / Fast readout axis direction\n",
      "meta.subarray.name                   | SUBARRAY = GENERIC              / Subarray used\n",
      "meta.subarray.slowaxis               | SLOWAXIS = 2                    / Slow readout axis direction\n",
      "meta.subarray.xsize                  | SUBSIZE1 = 1032                 / Number of pixels in axis 1 direction\n",
      "meta.subarray.xstart                 | SUBSTRT1 = 1                    / Starting pixel in axis 1 direction\n",
      "meta.subarray.ysize                  | SUBSIZE2 = 1024                 / Number of pixels in axis 2 direction\n",
      "meta.subarray.ystart                 | SUBSTRT2 = 1                    / Starting pixel in axis 2 direction\n",
      "meta.telescope                       | TELESCOP = JWST                 / Telescope used to acquire the data\n",
      "meta.useafter                        | USEAFTER = 2018-11-01           / Use after date of the reference file\n",
      "meta.version                         | VERSION  = 07.00.00             / Version number of data found in file\n",
      "HISTORY = 'Created from: MiriGainModel'\n",
      "HISTORY = 'DOCUMENT: MIRI-TR-0000-UA-Gain'\n",
      "HISTORY = 'SOFTWARE: IDL script gain.idl'\n",
      "HISTORY = 'DATA USED: MIRI FM data'\n",
      "HISTORY = 'DIFFERENCES: Metadata update only'\n",
      "HISTORY = 'This is an extra history record'\n",
      "\n"
     ]
    }
   ],
   "source": [
    "print( gain_model.info )"
   ]
  },
  {
   "cell_type": "markdown",
   "metadata": {},
   "source": [
    "The data contained in the reference file can be displayed by printing the model (which converts its metadata and data into a readable string)."
   ]
  },
  {
   "cell_type": "code",
   "execution_count": 10,
   "metadata": {},
   "outputs": [
    {
     "name": "stdout",
     "output_type": "stream",
     "text": [
      "MiriGainModel: \n",
      "===============\n",
      "Metadata\n",
      "--------\n",
      "Data model location                    FITS key   Value                  Comment\n",
      "~~~~~~~~~~~~~~~~~~~                    ~~~~~~~~   ~~~~~                  ~~~~~~~\n",
      "meta.author                          | AUTHOR   = Joe Bloggs           / Author of the reference file\n",
      "meta.date                            | DATE     = 2018-11-09T13:23:11.221 / Date this file was created (UTC)\n",
      "meta.description                     | DESCRIP  = MIRI GAIN data created from a data models example / Description of the reference file\n",
      "meta.exposure.frame_resets           | FRMRSETS = 3                    / Number of extra frame resets for SCA\n",
      "meta.exposure.groups_averaged        | GRPAVG   = 1                    / Number of groups averaged\n",
      "meta.exposure.integrations_averaged  | INTAVG   = 1                    / Number of integrations averaged\n",
      "meta.exposure.nframes                | NFRAMES  = 1                    / Number of frames coadded in a group\n",
      "meta.exposure.readpatt               | READPATT = N/A                  / Readout pattern\n",
      "meta.exposure.reset_time             | ROWRSETS = 0                    / Width of reset pulse for SCA (cycles)\n",
      "meta.filename_original               | ORIGFILE = MIRI_FM_MIRIFULONG_34_GAIN_04.00.00.fits / Original name of the file\n",
      "meta.instrument.band                 | BAND     = N/A                  / MIRI sub-channel relevant (MRS)\n",
      "meta.instrument.channel              | CHANNEL  = 34                   / MIRI channel relevant (MRS)\n",
      "meta.instrument.detector             | DETECTOR = MIRIFULONG           / Name of detector used to acquire the data\n",
      "meta.instrument.detector_settings    | DETSETNG = N/A                  / Detector settings used\n",
      "meta.instrument.model                | MODELNAM = FM                   / Instrument model name\n",
      "meta.instrument.name                 | INSTRUME = MIRI                 / Instrument used to acquire the data\n",
      "meta.model_type                      | DATAMODL = GAIN                 / Type of data model\n",
      "meta.origin                          | ORIGIN   = MIRI European Consortium / Organization responsible for creating file\n",
      "meta.pedigree                        | PEDIGREE = GROUND               / The pedigree of the reference file\n",
      "meta.reftype                         | REFTYPE  = GAIN                 / Reference file type\n",
      "meta.subarray.fastaxis               | FASTAXIS = 1                    / Fast readout axis direction\n",
      "meta.subarray.name                   | SUBARRAY = GENERIC              / Subarray used\n",
      "meta.subarray.slowaxis               | SLOWAXIS = 2                    / Slow readout axis direction\n",
      "meta.subarray.xsize                  | SUBSIZE1 = 1032                 / Number of pixels in axis 1 direction\n",
      "meta.subarray.xstart                 | SUBSTRT1 = 1                    / Starting pixel in axis 1 direction\n",
      "meta.subarray.ysize                  | SUBSIZE2 = 1024                 / Number of pixels in axis 2 direction\n",
      "meta.subarray.ystart                 | SUBSTRT2 = 1                    / Starting pixel in axis 2 direction\n",
      "meta.telescope                       | TELESCOP = JWST                 / Telescope used to acquire the data\n",
      "meta.useafter                        | USEAFTER = 2018-11-01           / Use after date of the reference file\n",
      "meta.version                         | VERSION  = 07.00.00             / Version number of data found in file\n",
      "HISTORY = 'Created from: MiriGainModel'\n",
      "HISTORY = 'DOCUMENT: MIRI-TR-0000-UA-Gain'\n",
      "HISTORY = 'SOFTWARE: IDL script gain.idl'\n",
      "HISTORY = 'DATA USED: MIRI FM data'\n",
      "HISTORY = 'DIFFERENCES: Metadata update only'\n",
      "HISTORY = 'This is an extra history record'\n",
      "\n",
      "Data array 'data' (3 x 3)\n",
      "--------------------------\n",
      "[[1.  1.2 1.1]\n",
      " [1.3 1.2 1. ]\n",
      " [1.1 0.8 0.9]]\n",
      "\n"
     ]
    }
   ],
   "source": [
    "print( gain_model )"
   ]
  },
  {
   "cell_type": "markdown",
   "metadata": {},
   "source": [
    "If the data arrays are too large to display sensibly, a summary of the contents can be displayed like this."
   ]
  },
  {
   "cell_type": "code",
   "execution_count": 11,
   "metadata": {},
   "outputs": [
    {
     "name": "stdout",
     "output_type": "stream",
     "text": [
      "MiriGainModel: \n",
      "===============\n",
      "One data array:\n",
      "---------------\n",
      "Data array 'data' (3 x 3)\n",
      "  zero=0, non-zero=9; min=0.800000, max=1.300000, mean=1.066667, median=1.100000, std=0.149071\n",
      "\n"
     ]
    }
   ],
   "source": [
    "print( gain_model.summary )"
   ]
  },
  {
   "cell_type": "markdown",
   "metadata": {},
   "source": [
    "The data model just created can be saved to a FITS file. Remember to use the CDP file naming convention and ensure the version number in the file name matches the version number defined in the metadata. The 'overwrite' parameter ensures any existing file with the same name is overwritten - use this with care."
   ]
  },
  {
   "cell_type": "code",
   "execution_count": 12,
   "metadata": {},
   "outputs": [
    {
     "data": {
      "text/plain": [
       "'MIRI_FM_MIRIFULONG_34_GAIN_07.00.00.fits'"
      ]
     },
     "execution_count": 12,
     "metadata": {},
     "output_type": "execute_result"
    }
   ],
   "source": [
    "gain_model.save( \"MIRI_FM_MIRIFULONG_34_GAIN_7X.00.00.fits\", overwrite=True)"
   ]
  },
  {
   "cell_type": "markdown",
   "metadata": {},
   "source": [
    "Now the data has been saved to a FITS file, the following statement can be used by future code to read the file\n",
    "and regenerate the data model."
   ]
  },
  {
   "cell_type": "code",
   "execution_count": 13,
   "metadata": {},
   "outputs": [
    {
     "name": "stdout",
     "output_type": "stream",
     "text": [
      "MiriGainModel: \n",
      "===============\n",
      "Metadata\n",
      "--------\n",
      "Data model location                    FITS key   Value                  Comment\n",
      "~~~~~~~~~~~~~~~~~~~                    ~~~~~~~~   ~~~~~                  ~~~~~~~\n",
      "meta.author                          | AUTHOR   = Joe Bloggs           / Author of the reference file\n",
      "meta.date                            | DATE     = 2018-11-09T13:23:40.057 / Date this file was created (UTC)\n",
      "meta.description                     | DESCRIP  = MIRI GAIN data created from a data models example / Description of the reference file\n",
      "meta.exposure.frame_resets           | FRMRSETS = 3                    / Number of extra frame resets for SCA\n",
      "meta.exposure.groups_averaged        | GRPAVG   = 1                    / Number of groups averaged\n",
      "meta.exposure.integrations_averaged  | INTAVG   = 1                    / Number of integrations averaged\n",
      "meta.exposure.nframes                | NFRAMES  = 1                    / Number of frames coadded in a group\n",
      "meta.exposure.readpatt               | READPATT = N/A                  / Readout pattern\n",
      "meta.exposure.reset_time             | ROWRSETS = 0                    / Width of reset pulse for SCA (cycles)\n",
      "meta.filename                        | FILENAME = MIRI_FM_MIRIFULONG_34_GAIN_07.00.00.fits / Name of the file\n",
      "meta.filename_original               | ORIGFILE = MIRI_FM_MIRIFULONG_34_GAIN_04.00.00.fits / Original name of the file\n",
      "meta.instrument.band                 | BAND     = N/A                  / MIRI sub-channel relevant (MRS)\n",
      "meta.instrument.channel              | CHANNEL  = 34                   / MIRI channel relevant (MRS)\n",
      "meta.instrument.detector             | DETECTOR = MIRIFULONG           / Name of detector used to acquire the data\n",
      "meta.instrument.detector_settings    | DETSETNG = N/A                  / Detector settings used\n",
      "meta.instrument.model                | MODELNAM = FM                   / Instrument model name\n",
      "meta.instrument.name                 | INSTRUME = MIRI                 / Instrument used to acquire the data\n",
      "meta.model_type                      | DATAMODL = GAIN                 / Type of data model\n",
      "meta.origin                          | ORIGIN   = MIRI European Consortium / Organization responsible for creating file\n",
      "meta.pedigree                        | PEDIGREE = GROUND               / The pedigree of the reference file\n",
      "meta.reftype                         | REFTYPE  = GAIN                 / Reference file type\n",
      "meta.subarray.fastaxis               | FASTAXIS = 1                    / Fast readout axis direction\n",
      "meta.subarray.name                   | SUBARRAY = GENERIC              / Subarray used\n",
      "meta.subarray.slowaxis               | SLOWAXIS = 2                    / Slow readout axis direction\n",
      "meta.subarray.xsize                  | SUBSIZE1 = 1032                 / Number of pixels in axis 1 direction\n",
      "meta.subarray.xstart                 | SUBSTRT1 = 1                    / Starting pixel in axis 1 direction\n",
      "meta.subarray.ysize                  | SUBSIZE2 = 1024                 / Number of pixels in axis 2 direction\n",
      "meta.subarray.ystart                 | SUBSTRT2 = 1                    / Starting pixel in axis 2 direction\n",
      "meta.telescope                       | TELESCOP = JWST                 / Telescope used to acquire the data\n",
      "meta.useafter                        | USEAFTER = 2018-11-01           / Use after date of the reference file\n",
      "meta.version                         | VERSION  = 07.00.00             / Version number of data found in file\n",
      "HISTORY = 'Created from: MiriGainModel'\n",
      "HISTORY = 'DOCUMENT: MIRI-TR-0000-UA-Gain'\n",
      "HISTORY = 'SOFTWARE: IDL script gain.idl'\n",
      "HISTORY = 'DATA USED: MIRI FM data'\n",
      "HISTORY = 'DIFFERENCES: Metadata update only'\n",
      "HISTORY = 'This is an extra history record'\n",
      "\n",
      "Data array 'data' (3 x 3)\n",
      "--------------------------\n",
      "[[1.  1.2 1.1]\n",
      " [1.3 1.2 1. ]\n",
      " [1.1 0.8 0.9]]\n",
      "\n"
     ]
    }
   ],
   "source": [
    "my_data_model = MiriGainModel( \"MIRI_FM_MIRIFULONG_34_GAIN_7X.00.00.fits\" )\n",
    "print( my_data_model )"
   ]
  },
  {
   "cell_type": "markdown",
   "metadata": {},
   "source": [
    "This example has shown how a data model can created for a reference file containing a simple data array.\n",
    "A reference file containing a data table can be created in a similar way, except the data tables need to be created by defining lists of tuples (or numpy record arrays), like this example for the MIRI MRS wavelength correction model."
   ]
  },
  {
   "cell_type": "code",
   "execution_count": 14,
   "metadata": {},
   "outputs": [],
   "source": [
    "from miri.datamodels.cdp import MiriMrsWavelengthCorrectionModel\n",
    "\n",
    "optical_data = [('1A', 0.176, 4.87, 5.82, 3320.0, 3710.0),\n",
    "                ('1B', 0.176, 5.62, 6.73, 3190.0, 3750.0)]\n",
    "xslice_data =  [(0.2122, 0.3718)]\n",
    "shift_data =   [(0.000, 0.0, 0.0),\n",
    "                (0.005, -0.0460, -0.0687),\n",
    "                (0.010, -0.0924, -0.0687)]\n",
    "\n",
    "wavcor_model = MiriMrsWavelengthCorrectionModel( wavcorr_optical=optical_data,\n",
    "                                                 wavcorr_xslice=xslice_data,\n",
    "                                                 wavcorr_shift=shift_data )\n",
    "wavcor_model.set_instrument_metadata( detector='MIRIFUSHORT', channel='12', band='N/A')\n",
    "wavcor_model.set_subarray_metadata( subarray='GENERIC')\n",
    "wavcor_model.set_housekeeping_metadata( origin='MIRI European Consortium', author='Andy Calibration',\n",
    "                                  version='07.00.00', useafter='2018-11-01',\n",
    "                                  description='MRS wavelength correction created from a data models example')\n",
    "wavcor_model.add_referencefile_history( document='MIRI-TR-0006-ATC', software='IDL script MRS_WavCorr.pro',\n",
    "                                   dataused='GLAD diffraction modelling', differences='Metadata update only' )\n",
    "\n",
    "wavcor_model.meta.exposure.readpatt = 'N/A'\n"
   ]
  },
  {
   "cell_type": "markdown",
   "metadata": {},
   "source": [
    "Printing the data model reveals its contents."
   ]
  },
  {
   "cell_type": "code",
   "execution_count": 15,
   "metadata": {},
   "outputs": [
    {
     "name": "stdout",
     "output_type": "stream",
     "text": [
      "MiriMrsWavelengthCorrectionModel: MIRI MRS wavelength correction model\n",
      "======================================================================\n",
      "Metadata\n",
      "--------\n",
      "Data model location                    FITS key   Value                  Comment\n",
      "~~~~~~~~~~~~~~~~~~~                    ~~~~~~~~   ~~~~~                  ~~~~~~~\n",
      "meta.author                          | AUTHOR   = Andy Calibration     / Author of the reference file\n",
      "meta.date                            | DATE     = 2018-11-09T13:23:52.213 / Date this file was created (UTC)\n",
      "meta.description                     | DESCRIP  = MRS wavelength correction created from a data models example / Description of the reference file\n",
      "meta.exposure.nframes                | NFRAMES  = 1                    / Number of frames coadded in a group\n",
      "meta.exposure.readpatt               | READPATT = N/A                  / Readout pattern\n",
      "meta.instrument.band                 | BAND     = N/A                  / MIRI sub-channel relevant (MRS)\n",
      "meta.instrument.ccc_state            | CCCSTATE = OPEN                 / Contamination control cover state\n",
      "meta.instrument.channel              | CHANNEL  = 12                   / MIRI channel relevant (MRS)\n",
      "meta.instrument.detector             | DETECTOR = MIRIFUSHORT          / Name of detector used to acquire the data\n",
      "meta.instrument.detector_settings    | DETSETNG = N/A                  / Detector settings used\n",
      "meta.instrument.model                | MODELNAM = FM                   / Instrument model name\n",
      "meta.instrument.name                 | INSTRUME = MIRI                 / Instrument used to acquire the data\n",
      "meta.model_type                      | DATAMODL = WAVCORR              / Type of data model\n",
      "meta.observation.date                | DATE-OBS = 2018-11-09T13:23:52.213 / [yyyy-mm-dd] UTC date at start of exposure\n",
      "meta.origin                          | ORIGIN   = MIRI European Consortium / Organization responsible for creating file\n",
      "meta.pedigree                        | PEDIGREE = GROUND               / The pedigree of the reference file\n",
      "meta.reftype                         | REFTYPE  = WAVCORR              / Reference file type\n",
      "meta.subarray.fastaxis               | FASTAXIS = 1                    / Fast readout axis direction\n",
      "meta.subarray.name                   | SUBARRAY = GENERIC              / Subarray used\n",
      "meta.subarray.slowaxis               | SLOWAXIS = 2                    / Slow readout axis direction\n",
      "meta.subarray.xsize                  | SUBSIZE1 = 1032                 / Number of pixels in axis 1 direction\n",
      "meta.subarray.xstart                 | SUBSTRT1 = 1                    / Starting pixel in axis 1 direction\n",
      "meta.subarray.ysize                  | SUBSIZE2 = 1024                 / Number of pixels in axis 2 direction\n",
      "meta.subarray.ystart                 | SUBSTRT2 = 1                    / Starting pixel in axis 2 direction\n",
      "meta.telescope                       | TELESCOP = JWST                 / Telescope used to acquire the data\n",
      "meta.useafter                        | USEAFTER = 2018-11-01           / Use after date of the reference file\n",
      "meta.version                         | VERSION  = 07.00.00             / Version number of data found in file\n",
      "HISTORY = 'Created from: MiriMrsWavelengthCorrectionModel'\n",
      "HISTORY = 'DOCUMENT: MIRI-TR-0006-ATC'\n",
      "HISTORY = 'SOFTWARE: IDL script MRS_WavCorr.pro'\n",
      "HISTORY = 'DATA USED: GLAD diffraction modelling'\n",
      "HISTORY = 'DIFFERENCES: Metadata update only'\n",
      "\n",
      "Data table 'wavcorr_optical' in '(\"\", \"arcsec\", \"micron\", \"micron\", \"\", \"\")' (2)\n",
      "Columns: 'SUB_BAND', 'BETA_SLICE', 'WAVE_MIN', 'WAVE_MAX', 'SRP_MIN', 'SRP_MAX'\n",
      "---------------------------------------------------------------------------------\n",
      "[('1A', 0.176, 4.87, 5.82, 3320., 3710.)\n",
      " ('1B', 0.176, 5.62, 6.73, 3190., 3750.)]\n",
      "\n",
      "Data table 'wavcorr_xslice' in '(\"micron/arcsec\", \"micron/arcsec\")' (1)\n",
      "Columns: 'XSLICE_MIN', 'XSLICE_MAX'\n",
      "------------------------------------------------------------------------\n",
      "[(0.2122, 0.3718)]\n",
      "\n",
      "Data table 'wavcorr_shift' in '(\"slice\", \"slice\", \"slice\")' (3)\n",
      "Columns: 'BETA_OFF', 'DS_MIN', 'DS_MAX'\n",
      "----------------------------------------------------------------\n",
      "[(0.   ,  0.    ,  0.    ) (0.005, -0.046 , -0.0687)\n",
      " (0.01 , -0.0924, -0.0687)]\n",
      "\n"
     ]
    }
   ],
   "source": [
    "print( wavcor_model )"
   ]
  },
  {
   "cell_type": "markdown",
   "metadata": {},
   "source": [
    "The principles shown here can be extended to the other MIRI data models. The parameters required to create each kind of MIRI data product are described in the MIRI data models reference manual, available here:\n",
    "\n",
    "http://miri.ster.kuleuven.be/pub/Internal/Software/SoftDevDocs/miri_datamodels.pdf"
   ]
  }
 ],
 "metadata": {
  "kernelspec": {
   "display_name": "Python 3",
   "language": "python",
   "name": "python3"
  },
  "language_info": {
   "codemirror_mode": {
    "name": "ipython",
    "version": 3
   },
   "file_extension": ".py",
   "mimetype": "text/x-python",
   "name": "python",
   "nbconvert_exporter": "python",
   "pygments_lexer": "ipython3",
   "version": "3.5.5"
  }
 },
 "nbformat": 4,
 "nbformat_minor": 2
}
